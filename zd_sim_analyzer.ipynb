{
 "cells": [
  {
   "cell_type": "code",
   "execution_count": 1,
   "id": "00e87f9d",
   "metadata": {},
   "outputs": [],
   "source": [
    "import os\n",
    "import json\n",
    "import pandas as pd\n",
    "import numpy as np\n",
    "import matplotlib.pyplot as plt\n",
    "import torch\n",
    "\n",
    "from os.path import isdir, isfile, join\n",
    "from tqdm import tqdm\n",
    "\n",
    "from data_visualizer import TextDataset\n",
    "from transformers import RobertaTokenizer\n",
    "from torch.utils.data import DataLoader, Dataset, SequentialSampler\n",
    "\n",
    "from ripser import ripser\n",
    "from persim import plot_diagrams"
   ]
  },
  {
   "cell_type": "code",
   "execution_count": 2,
   "id": "b8785d6e",
   "metadata": {},
   "outputs": [],
   "source": [
    "zd_sim_json_filepath = \"data/big-vul_dataset/zd_sim_batches.json\"\n",
    "train_data_csv_filepath = \"data/big-vul_dataset/train.csv\"\n",
    "zd_csv_filepath = \"data/zero_day/zero_day.csv\""
   ]
  },
  {
   "cell_type": "code",
   "execution_count": 3,
   "id": "e52a8e1f",
   "metadata": {},
   "outputs": [],
   "source": [
    "with open(zd_sim_json_filepath, \"r\") as f:\n",
    "    zd_sim = json.load(f)"
   ]
  },
  {
   "cell_type": "code",
   "execution_count": 6,
   "id": "f624bd38",
   "metadata": {},
   "outputs": [
    {
     "data": {
      "text/plain": [
       "402"
      ]
     },
     "execution_count": 6,
     "metadata": {},
     "output_type": "execute_result"
    }
   ],
   "source": [
    "len(zd_sim[\"zd_sim_batches\"])"
   ]
  },
  {
   "cell_type": "code",
   "execution_count": 5,
   "id": "ad6ad350",
   "metadata": {},
   "outputs": [],
   "source": [
    "train_df = pd.read_csv(train_data_csv_filepath)"
   ]
  },
  {
   "cell_type": "code",
   "execution_count": 7,
   "id": "f5bfdbab",
   "metadata": {},
   "outputs": [],
   "source": [
    "zd_df = pd.read_csv(zd_csv_filepath)"
   ]
  },
  {
   "cell_type": "code",
   "execution_count": 8,
   "id": "2bbd3b91",
   "metadata": {},
   "outputs": [],
   "source": [
    "zd_cnt = len(zd_df.index)\n",
    "train_cnt = len(train_df.index)"
   ]
  },
  {
   "cell_type": "code",
   "execution_count": 9,
   "id": "573d45f3",
   "metadata": {},
   "outputs": [
    {
     "name": "stdout",
     "output_type": "stream",
     "text": [
      "631 10430\n",
      "6.05%\n"
     ]
    }
   ],
   "source": [
    "total_labels = 0\n",
    "total_pos = 0\n",
    "\n",
    "vul_tain_zd_sim_df = pd.DataFrame()\n",
    "\n",
    "for batch in zd_sim[\"zd_sim_batches\"]:\n",
    "    start = (batch - 1) * zd_cnt\n",
    "    end = start + zd_cnt\n",
    "    \n",
    "    if end >= train_cnt:\n",
    "        batch_df = train_df.iloc[start:]\n",
    "    else:\n",
    "        batch_df = train_df.iloc[start:end]\n",
    "    \n",
    "    labels = batch_df[\"target\"].tolist()\n",
    "    \n",
    "    vul_batch_df = batch_df.query(\"target == 1\")\n",
    "    \n",
    "    vul_tain_zd_sim_df = pd.concat([vul_tain_zd_sim_df, vul_batch_df])\n",
    "    \n",
    "    total_labels += len(labels)\n",
    "    total_pos += labels.count(1)\n",
    "\n",
    "print(total_pos, total_labels)\n",
    "\n",
    "pct = (total_pos / total_labels) * 100\n",
    "\n",
    "print(f\"{pct:.2f}%\")"
   ]
  },
  {
   "cell_type": "code",
   "execution_count": 17,
   "id": "9eb60266",
   "metadata": {},
   "outputs": [],
   "source": [
    "train_data_csv_filepath = \"data/zero_day/zero_day_vul_train.csv\"\n",
    "\n",
    "with open(train_data_csv_filepath, \"w\"):\n",
    "    pass\n",
    "\n",
    "vul_tain_zd_sim_df.to_csv(train_data_csv_filepath)"
   ]
  },
  {
   "cell_type": "code",
   "execution_count": 12,
   "id": "33e85f59",
   "metadata": {},
   "outputs": [
    {
     "name": "stderr",
     "output_type": "stream",
     "text": [
      "100%|███████████████████████████████████████████████████████████████████████████████████████████████████████████████████████████████████████████████████████████████████| 631/631 [00:01<00:00, 401.30it/s]\n"
     ]
    }
   ],
   "source": [
    "tokenizer_name = \"microsoft/codebert-base\"\n",
    "tokenizer = RobertaTokenizer.from_pretrained(tokenizer_name)\n",
    "\n",
    "test_dataset = TextDataset(tokenizer, vul_tain_zd_sim_df)"
   ]
  },
  {
   "cell_type": "code",
   "execution_count": 13,
   "id": "3b04a405",
   "metadata": {},
   "outputs": [],
   "source": [
    "BATCH_SIZE = 256\n",
    "\n",
    "test_sampler = SequentialSampler(test_dataset)\n",
    "test_dataloader = DataLoader(test_dataset, sampler=test_sampler, batch_size=BATCH_SIZE, num_workers=1)"
   ]
  },
  {
   "cell_type": "code",
   "execution_count": 14,
   "id": "2d1b23c3",
   "metadata": {},
   "outputs": [
    {
     "name": "stderr",
     "output_type": "stream",
     "text": [
      "100%|████████████████████████████████████████████████████████████████████████████████████████████████████████████████████████████████████████████████████████████████████████| 3/3 [00:00<00:00, 19.11it/s]"
     ]
    },
    {
     "name": "stdout",
     "output_type": "stream",
     "text": [
      "Clean\n"
     ]
    },
    {
     "name": "stderr",
     "output_type": "stream",
     "text": [
      "\n"
     ]
    }
   ],
   "source": [
    "BLOCK_SIZE = 512\n",
    "\n",
    "device = torch.device(\"cuda\" if torch.cuda.is_available() else \"cpu\")\n",
    "\n",
    "test_data_np = np.empty((BATCH_SIZE, BLOCK_SIZE))\n",
    "for batch in tqdm(test_dataloader):\n",
    "    (inputs_ids, labels) = [x.to(device) for x in batch]\n",
    "    input_numpy = inputs_ids.cpu().numpy()\n",
    "    test_data_np = np.concatenate((test_data_np, np.nan_to_num(input_numpy)), axis=0)\n",
    "\n",
    "test_data_np = np.nan_to_num(test_data_np)\n",
    "\n",
    "if np.isnan(test_data_np).any():\n",
    "    print(\"Has NaN\")\n",
    "else:\n",
    "    print(\"Clean\")"
   ]
  },
  {
   "cell_type": "code",
   "execution_count": 15,
   "id": "2410c5d3",
   "metadata": {},
   "outputs": [
    {
     "data": {
      "text/plain": [
       "<Figure size 432x288 with 0 Axes>"
      ]
     },
     "metadata": {},
     "output_type": "display_data"
    }
   ],
   "source": [
    "diagrams = ripser(test_data_np)[\"dgms\"]\n",
    "plot_diagrams(diagrams, show=False)\n",
    "plt.savefig(join(\"data/big-vul_dataset/diagrams/vul_train_zd_sim\", f\"zdsim_trainvul.png\"))\n",
    "plt.clf()"
   ]
  },
  {
   "cell_type": "code",
   "execution_count": 13,
   "id": "9f33bcdd",
   "metadata": {},
   "outputs": [
    {
     "name": "stdout",
     "output_type": "stream",
     "text": [
      "7\n"
     ]
    }
   ],
   "source": [
    "zd_labels = zd_df[\"target\"].tolist()\n",
    "print(zd_labels.count(1))"
   ]
  },
  {
   "cell_type": "code",
   "execution_count": 18,
   "id": "d8d71a95",
   "metadata": {},
   "outputs": [
    {
     "name": "stdout",
     "output_type": "stream",
     "text": [
      "7 26\n",
      "26.92%\n"
     ]
    }
   ],
   "source": [
    "zd_label_cnt = len(zd_labels)\n",
    "zd_pos_cnt = zd_labels.count(1)\n",
    "\n",
    "print(zd_pos_cnt, zd_label_cnt)\n",
    "\n",
    "zd_pct = (zd_pos_cnt / zd_label_cnt) * 100\n",
    "\n",
    "print(f\"{zd_pct:.2f}%\")"
   ]
  },
  {
   "cell_type": "code",
   "execution_count": 22,
   "id": "59f42f5f",
   "metadata": {},
   "outputs": [],
   "source": [
    "train_data_csv_filepath = \"data/zero_day/zero_day_vul_train.csv\"\n",
    "\n",
    "zdsim_trainvul_df = pd.read_csv(train_data_csv_filepath)"
   ]
  },
  {
   "cell_type": "code",
   "execution_count": 24,
   "id": "aeb3eeea",
   "metadata": {},
   "outputs": [
    {
     "data": {
      "text/plain": [
       "631"
      ]
     },
     "execution_count": 24,
     "metadata": {},
     "output_type": "execute_result"
    }
   ],
   "source": [
    "len(zdsim_trainvul_df.index)"
   ]
  },
  {
   "cell_type": "code",
   "execution_count": 25,
   "id": "cad310f7",
   "metadata": {},
   "outputs": [],
   "source": [
    "zdsim_trainvul_dirname = \"data/zero_day/zdsim_trainvul\"\n",
    "\n",
    "if not isdir(zdsim_trainvul_dirname):\n",
    "    os.mkdir(zdsim_trainvul_dirname)"
   ]
  },
  {
   "cell_type": "code",
   "execution_count": 26,
   "id": "fce8b9f5",
   "metadata": {},
   "outputs": [
    {
     "data": {
      "text/plain": [
       "Index(['Unnamed: 0', 'index', 'Access Gained', 'Attack Origin',\n",
       "       'Authentication Required', 'Availability', 'CVE ID', 'CVE Page',\n",
       "       'CWE ID', 'Complexity', 'Confidentiality', 'Integrity',\n",
       "       'Known Exploits', 'Publish Date', 'Score', 'Summary', 'Update Date',\n",
       "       'Vulnerability Classification', 'add_lines', 'codeLink', 'commit_id',\n",
       "       'commit_message', 'del_lines', 'file_name', 'files_changed',\n",
       "       'func_after', 'func_before', 'lang', 'lines_after', 'lines_before',\n",
       "       'parentID', 'patch', 'project', 'project_after', 'project_before',\n",
       "       'target', 'vul_func_with_fix', 'processed_func', 'flaw_line',\n",
       "       'flaw_line_index'],\n",
       "      dtype='object')"
      ]
     },
     "execution_count": 26,
     "metadata": {},
     "output_type": "execute_result"
    }
   ],
   "source": [
    "zdsim_trainvul_df.columns"
   ]
  },
  {
   "cell_type": "code",
   "execution_count": 28,
   "id": "c2fb224a",
   "metadata": {},
   "outputs": [],
   "source": [
    "vuls = zdsim_trainvul_df[\"processed_func\"].tolist()\n",
    "fixes = zdsim_trainvul_df[\"vul_func_with_fix\"].tolist()\n",
    "\n",
    "total = len(vuls)\n",
    "\n",
    "for i in range(total):\n",
    "    DST_DIR = join(zdsim_trainvul_dirname, f\"{i+1}\")\n",
    "    \n",
    "    if not isdir(DST_DIR):\n",
    "        os.mkdir(DST_DIR)\n",
    "    \n",
    "    with open(join(DST_DIR, \"vul.cpp\"), \"w\") as f:\n",
    "        f.write(vuls[i])\n",
    "    with open(join(DST_DIR, \"fix.cpp\"), \"w\") as f:\n",
    "        f.write(fixes[i])"
   ]
  },
  {
   "cell_type": "code",
   "execution_count": null,
   "id": "9e175182",
   "metadata": {},
   "outputs": [],
   "source": []
  }
 ],
 "metadata": {
  "kernelspec": {
   "display_name": "Python [conda env:root] *",
   "language": "python",
   "name": "conda-root-py"
  },
  "language_info": {
   "codemirror_mode": {
    "name": "ipython",
    "version": 3
   },
   "file_extension": ".py",
   "mimetype": "text/x-python",
   "name": "python",
   "nbconvert_exporter": "python",
   "pygments_lexer": "ipython3",
   "version": "3.8.12"
  }
 },
 "nbformat": 4,
 "nbformat_minor": 5
}
