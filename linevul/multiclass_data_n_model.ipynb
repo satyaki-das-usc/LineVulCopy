{
 "cells": [
  {
   "cell_type": "code",
   "execution_count": 166,
   "id": "0f96b9ca",
   "metadata": {},
   "outputs": [],
   "source": [
    "import numpy as np\n",
    "import pandas as pd\n",
    "import seaborn as sns\n",
    "import os\n",
    "\n",
    "import matplotlib.pyplot as plt\n",
    "\n",
    "from os.path import isfile, isdir, join\n",
    "\n",
    "from tqdm.notebook import tqdm\n",
    "from sklearn.model_selection import train_test_split\n",
    "from sklearn.preprocessing import MinMaxScaler\n",
    "\n",
    "from linevul_main import InputFeatures, convert_examples_to_features\n",
    "\n",
    "# from dataset_gen_utils import boost_with_dupes"
   ]
  },
  {
   "cell_type": "code",
   "execution_count": 23,
   "id": "e1f5797d",
   "metadata": {},
   "outputs": [],
   "source": [
    "SRC_PATH = \"../data/cat/cat_processed_data.csv\""
   ]
  },
  {
   "cell_type": "code",
   "execution_count": 16,
   "id": "685b0bbf",
   "metadata": {},
   "outputs": [
    {
     "name": "stderr",
     "output_type": "stream",
     "text": [
      "/tmp/ipykernel_6268/1904970351.py:1: DtypeWarning: Columns (20,22,23,27,28,29,37,38) have mixed types. Specify dtype option on import or set low_memory=False.\n",
      "  df = pd.read_csv(SRC_PATH)\n"
     ]
    },
    {
     "data": {
      "text/html": [
       "<div>\n",
       "<style scoped>\n",
       "    .dataframe tbody tr th:only-of-type {\n",
       "        vertical-align: middle;\n",
       "    }\n",
       "\n",
       "    .dataframe tbody tr th {\n",
       "        vertical-align: top;\n",
       "    }\n",
       "\n",
       "    .dataframe thead th {\n",
       "        text-align: right;\n",
       "    }\n",
       "</style>\n",
       "<table border=\"1\" class=\"dataframe\">\n",
       "  <thead>\n",
       "    <tr style=\"text-align: right;\">\n",
       "      <th></th>\n",
       "      <th>index</th>\n",
       "      <th>Access Gained</th>\n",
       "      <th>Attack Origin</th>\n",
       "      <th>Authentication Required</th>\n",
       "      <th>Availability</th>\n",
       "      <th>CVE ID</th>\n",
       "      <th>CVE Page</th>\n",
       "      <th>CWE ID</th>\n",
       "      <th>Complexity</th>\n",
       "      <th>Confidentiality</th>\n",
       "      <th>...</th>\n",
       "      <th>parentID</th>\n",
       "      <th>patch</th>\n",
       "      <th>project</th>\n",
       "      <th>project_after</th>\n",
       "      <th>project_before</th>\n",
       "      <th>target</th>\n",
       "      <th>vul_func_with_fix</th>\n",
       "      <th>processed_func</th>\n",
       "      <th>flaw_line</th>\n",
       "      <th>flaw_line_index</th>\n",
       "    </tr>\n",
       "  </thead>\n",
       "  <tbody>\n",
       "    <tr>\n",
       "      <th>0</th>\n",
       "      <td>0</td>\n",
       "      <td>None</td>\n",
       "      <td>Remote</td>\n",
       "      <td>Single system</td>\n",
       "      <td>Partial</td>\n",
       "      <td>CVE-2015-8467</td>\n",
       "      <td>https://www.cvedetails.com/cve/CVE-2015-8467/</td>\n",
       "      <td>CWE-264</td>\n",
       "      <td>Medium</td>\n",
       "      <td>Partial</td>\n",
       "      <td>...</td>\n",
       "      <td>a819d2b440aafa3138d95ff6e8b824da885a70e9</td>\n",
       "      <td>@@ -1558,12 +1558,15 @@ static int samldb_chec...</td>\n",
       "      <td>samba</td>\n",
       "      <td>https://git.samba.org/?p=samba.git;a=blob;f=so...</td>\n",
       "      <td>https://git.samba.org/?p=samba.git;a=blob;f=so...</td>\n",
       "      <td>0</td>\n",
       "      <td>static bool check_rodc_critical_attribute(stru...</td>\n",
       "      <td>static bool check_rodc_critical_attribute(stru...</td>\n",
       "      <td>NaN</td>\n",
       "      <td>NaN</td>\n",
       "    </tr>\n",
       "    <tr>\n",
       "      <th>1</th>\n",
       "      <td>1</td>\n",
       "      <td>None</td>\n",
       "      <td>Remote</td>\n",
       "      <td>Single system</td>\n",
       "      <td>Partial</td>\n",
       "      <td>CVE-2015-8467</td>\n",
       "      <td>https://www.cvedetails.com/cve/CVE-2015-8467/</td>\n",
       "      <td>CWE-264</td>\n",
       "      <td>Medium</td>\n",
       "      <td>Partial</td>\n",
       "      <td>...</td>\n",
       "      <td>a819d2b440aafa3138d95ff6e8b824da885a70e9</td>\n",
       "      <td>@@ -1558,12 +1558,15 @@ static int samldb_chec...</td>\n",
       "      <td>samba</td>\n",
       "      <td>https://git.samba.org/?p=samba.git;a=blob;f=so...</td>\n",
       "      <td>https://git.samba.org/?p=samba.git;a=blob;f=so...</td>\n",
       "      <td>0</td>\n",
       "      <td>static int samldb_add_entry(struct samldb_ctx ...</td>\n",
       "      <td>static int samldb_add_entry(struct samldb_ctx ...</td>\n",
       "      <td>NaN</td>\n",
       "      <td>NaN</td>\n",
       "    </tr>\n",
       "    <tr>\n",
       "      <th>2</th>\n",
       "      <td>2</td>\n",
       "      <td>None</td>\n",
       "      <td>Remote</td>\n",
       "      <td>Single system</td>\n",
       "      <td>Partial</td>\n",
       "      <td>CVE-2015-8467</td>\n",
       "      <td>https://www.cvedetails.com/cve/CVE-2015-8467/</td>\n",
       "      <td>CWE-264</td>\n",
       "      <td>Medium</td>\n",
       "      <td>Partial</td>\n",
       "      <td>...</td>\n",
       "      <td>a819d2b440aafa3138d95ff6e8b824da885a70e9</td>\n",
       "      <td>@@ -1558,12 +1558,15 @@ static int samldb_chec...</td>\n",
       "      <td>samba</td>\n",
       "      <td>https://git.samba.org/?p=samba.git;a=blob;f=so...</td>\n",
       "      <td>https://git.samba.org/?p=samba.git;a=blob;f=so...</td>\n",
       "      <td>0</td>\n",
       "      <td>static int samldb_add_entry_callback(struct ld...</td>\n",
       "      <td>static int samldb_add_entry_callback(struct ld...</td>\n",
       "      <td>NaN</td>\n",
       "      <td>NaN</td>\n",
       "    </tr>\n",
       "    <tr>\n",
       "      <th>3</th>\n",
       "      <td>3</td>\n",
       "      <td>None</td>\n",
       "      <td>Remote</td>\n",
       "      <td>Single system</td>\n",
       "      <td>Partial</td>\n",
       "      <td>CVE-2015-8467</td>\n",
       "      <td>https://www.cvedetails.com/cve/CVE-2015-8467/</td>\n",
       "      <td>CWE-264</td>\n",
       "      <td>Medium</td>\n",
       "      <td>Partial</td>\n",
       "      <td>...</td>\n",
       "      <td>a819d2b440aafa3138d95ff6e8b824da885a70e9</td>\n",
       "      <td>@@ -1558,12 +1558,15 @@ static int samldb_chec...</td>\n",
       "      <td>samba</td>\n",
       "      <td>https://git.samba.org/?p=samba.git;a=blob;f=so...</td>\n",
       "      <td>https://git.samba.org/?p=samba.git;a=blob;f=so...</td>\n",
       "      <td>0</td>\n",
       "      <td>static int samldb_add_handle_msDS_IntId(struct...</td>\n",
       "      <td>static int samldb_add_handle_msDS_IntId(struct...</td>\n",
       "      <td>NaN</td>\n",
       "      <td>NaN</td>\n",
       "    </tr>\n",
       "    <tr>\n",
       "      <th>4</th>\n",
       "      <td>4</td>\n",
       "      <td>None</td>\n",
       "      <td>Remote</td>\n",
       "      <td>Single system</td>\n",
       "      <td>Partial</td>\n",
       "      <td>CVE-2015-8467</td>\n",
       "      <td>https://www.cvedetails.com/cve/CVE-2015-8467/</td>\n",
       "      <td>CWE-264</td>\n",
       "      <td>Medium</td>\n",
       "      <td>Partial</td>\n",
       "      <td>...</td>\n",
       "      <td>a819d2b440aafa3138d95ff6e8b824da885a70e9</td>\n",
       "      <td>@@ -1558,12 +1558,15 @@ static int samldb_chec...</td>\n",
       "      <td>samba</td>\n",
       "      <td>https://git.samba.org/?p=samba.git;a=blob;f=so...</td>\n",
       "      <td>https://git.samba.org/?p=samba.git;a=blob;f=so...</td>\n",
       "      <td>0</td>\n",
       "      <td>static int samldb_add_step(struct samldb_ctx *...</td>\n",
       "      <td>static int samldb_add_step(struct samldb_ctx *...</td>\n",
       "      <td>NaN</td>\n",
       "      <td>NaN</td>\n",
       "    </tr>\n",
       "  </tbody>\n",
       "</table>\n",
       "<p>5 rows × 39 columns</p>\n",
       "</div>"
      ],
      "text/plain": [
       "   index Access Gained Attack Origin Authentication Required Availability  \\\n",
       "0      0          None        Remote           Single system      Partial   \n",
       "1      1          None        Remote           Single system      Partial   \n",
       "2      2          None        Remote           Single system      Partial   \n",
       "3      3          None        Remote           Single system      Partial   \n",
       "4      4          None        Remote           Single system      Partial   \n",
       "\n",
       "          CVE ID                                       CVE Page   CWE ID  \\\n",
       "0  CVE-2015-8467  https://www.cvedetails.com/cve/CVE-2015-8467/  CWE-264   \n",
       "1  CVE-2015-8467  https://www.cvedetails.com/cve/CVE-2015-8467/  CWE-264   \n",
       "2  CVE-2015-8467  https://www.cvedetails.com/cve/CVE-2015-8467/  CWE-264   \n",
       "3  CVE-2015-8467  https://www.cvedetails.com/cve/CVE-2015-8467/  CWE-264   \n",
       "4  CVE-2015-8467  https://www.cvedetails.com/cve/CVE-2015-8467/  CWE-264   \n",
       "\n",
       "  Complexity Confidentiality  ...                                  parentID  \\\n",
       "0     Medium         Partial  ...  a819d2b440aafa3138d95ff6e8b824da885a70e9   \n",
       "1     Medium         Partial  ...  a819d2b440aafa3138d95ff6e8b824da885a70e9   \n",
       "2     Medium         Partial  ...  a819d2b440aafa3138d95ff6e8b824da885a70e9   \n",
       "3     Medium         Partial  ...  a819d2b440aafa3138d95ff6e8b824da885a70e9   \n",
       "4     Medium         Partial  ...  a819d2b440aafa3138d95ff6e8b824da885a70e9   \n",
       "\n",
       "                                               patch project  \\\n",
       "0  @@ -1558,12 +1558,15 @@ static int samldb_chec...   samba   \n",
       "1  @@ -1558,12 +1558,15 @@ static int samldb_chec...   samba   \n",
       "2  @@ -1558,12 +1558,15 @@ static int samldb_chec...   samba   \n",
       "3  @@ -1558,12 +1558,15 @@ static int samldb_chec...   samba   \n",
       "4  @@ -1558,12 +1558,15 @@ static int samldb_chec...   samba   \n",
       "\n",
       "                                       project_after  \\\n",
       "0  https://git.samba.org/?p=samba.git;a=blob;f=so...   \n",
       "1  https://git.samba.org/?p=samba.git;a=blob;f=so...   \n",
       "2  https://git.samba.org/?p=samba.git;a=blob;f=so...   \n",
       "3  https://git.samba.org/?p=samba.git;a=blob;f=so...   \n",
       "4  https://git.samba.org/?p=samba.git;a=blob;f=so...   \n",
       "\n",
       "                                      project_before target  \\\n",
       "0  https://git.samba.org/?p=samba.git;a=blob;f=so...      0   \n",
       "1  https://git.samba.org/?p=samba.git;a=blob;f=so...      0   \n",
       "2  https://git.samba.org/?p=samba.git;a=blob;f=so...      0   \n",
       "3  https://git.samba.org/?p=samba.git;a=blob;f=so...      0   \n",
       "4  https://git.samba.org/?p=samba.git;a=blob;f=so...      0   \n",
       "\n",
       "                                   vul_func_with_fix  \\\n",
       "0  static bool check_rodc_critical_attribute(stru...   \n",
       "1  static int samldb_add_entry(struct samldb_ctx ...   \n",
       "2  static int samldb_add_entry_callback(struct ld...   \n",
       "3  static int samldb_add_handle_msDS_IntId(struct...   \n",
       "4  static int samldb_add_step(struct samldb_ctx *...   \n",
       "\n",
       "                                      processed_func flaw_line flaw_line_index  \n",
       "0  static bool check_rodc_critical_attribute(stru...       NaN             NaN  \n",
       "1  static int samldb_add_entry(struct samldb_ctx ...       NaN             NaN  \n",
       "2  static int samldb_add_entry_callback(struct ld...       NaN             NaN  \n",
       "3  static int samldb_add_handle_msDS_IntId(struct...       NaN             NaN  \n",
       "4  static int samldb_add_step(struct samldb_ctx *...       NaN             NaN  \n",
       "\n",
       "[5 rows x 39 columns]"
      ]
     },
     "execution_count": 16,
     "metadata": {},
     "output_type": "execute_result"
    }
   ],
   "source": [
    "df = pd.read_csv(SRC_PATH)\n",
    "df.head()"
   ]
  },
  {
   "cell_type": "code",
   "execution_count": 17,
   "id": "7293b390",
   "metadata": {},
   "outputs": [],
   "source": [
    "vul_df = df.query(\"target != 0\")from sklearn.model_selection import train_test_split"
   ]
  },
  {
   "cell_type": "code",
   "execution_count": 19,
   "id": "6c3ed5c5",
   "metadata": {},
   "outputs": [
    {
     "data": {
      "image/png": "[encoded data removed]",
      "text/plain": [
       "<Figure size 432x288 with 1 Axes>"
      ]
     },
     "metadata": {
      "needs_background": "light"
     },
     "output_type": "display_data"
    }
   ],
   "source": [
    "fig = sns.countplot(x=\"target\", data=df).get_figure()"
   ]
  },
  {
   "cell_type": "code",
   "execution_count": 13,
   "id": "af444544",
   "metadata": {},
   "outputs": [],
   "source": [
    "fig.savefig(\"../data/cat/vul_cnt.png\")"
   ]
  },
  {
   "cell_type": "code",
   "execution_count": 133,
   "id": "3639743f",
   "metadata": {},
   "outputs": [
    {
     "data": {
      "text/plain": [
       "pandas.core.frame.DataFrame"
      ]
     },
     "execution_count": 133,
     "metadata": {},
     "output_type": "execute_result"
    }
   ],
   "source": [
    "X = df.drop(\"target\", axis=1)\n",
    "Y = df[\"target\"]\n",
    "\n",
    "type(X)"
   ]
  },
  {
   "cell_type": "code",
   "execution_count": 143,
   "id": "f38bde8f",
   "metadata": {},
   "outputs": [],
   "source": [
    "def boost_with_dupes(df: pd.DataFrame, dup_cnt=10):\n",
    "    Y_list = df[\"target\"].tolist()\n",
    "    \n",
    "    unq_targets = set(Y_list)\n",
    "\n",
    "    dupe_targets = []\n",
    "\n",
    "    for tg in unq_targets:\n",
    "        cnt = Y_list.count(tg)\n",
    "        if cnt < 2:\n",
    "            dupe_targets.append(tg)\n",
    "    \n",
    "    X_dupes = []\n",
    "\n",
    "    for idx, row in df.iterrows():\n",
    "        if row[\"target\"] in dupe_targets:\n",
    "            X_dupes.extend([row] * dup_cnt)\n",
    "    \n",
    "    new_df = df.append(pd.DataFrame(X_dupes))\n",
    "    \n",
    "    return new_df"
   ]
  },
  {
   "cell_type": "code",
   "execution_count": 155,
   "id": "0898f1fb",
   "metadata": {},
   "outputs": [
    {
     "name": "stderr",
     "output_type": "stream",
     "text": [
      "/tmp/ipykernel_6268/1242448498.py:19: FutureWarning: The frame.append method is deprecated and will be removed from pandas in a future version. Use pandas.concat instead.\n",
      "  new_df = df.append(pd.DataFrame(X_dupes))\n"
     ]
    },
    {
     "data": {
      "text/plain": [
       "186629"
      ]
     },
     "execution_count": 155,
     "metadata": {},
     "output_type": "execute_result"
    }
   ],
   "source": [
    "# print(len(df.index))\n",
    "new_df = boost_with_dupes(df)\n",
    "# print(len(new_df.index))\n",
    "len(new_df[\"target\"])"
   ]
  },
  {
   "cell_type": "code",
   "execution_count": 156,
   "id": "e0438226",
   "metadata": {},
   "outputs": [],
   "source": [
    "X_train_df, X_valtest_df, Y_train, Y_valtest = train_test_split(new_df, new_df[\"target\"], test_size=0.2, stratify=new_df[\"target\"])"
   ]
  },
  {
   "cell_type": "code",
   "execution_count": 157,
   "id": "1999d987",
   "metadata": {},
   "outputs": [
    {
     "data": {
      "text/plain": [
       "(pandas.core.frame.DataFrame,\n",
       " pandas.core.frame.DataFrame,\n",
       " pandas.core.series.Series,\n",
       " pandas.core.series.Series)"
      ]
     },
     "execution_count": 157,
     "metadata": {},
     "output_type": "execute_result"
    }
   ],
   "source": [
    "type(X_train_df), type(X_valtest_df), type(Y_train), type(Y_valtest)"
   ]
  },
  {
   "cell_type": "code",
   "execution_count": 159,
   "id": "a26eb617",
   "metadata": {},
   "outputs": [
    {
     "name": "stdout",
     "output_type": "stream",
     "text": [
      "37326\n"
     ]
    },
    {
     "name": "stderr",
     "output_type": "stream",
     "text": [
      "/tmp/ipykernel_6268/1242448498.py:19: FutureWarning: The frame.append method is deprecated and will be removed from pandas in a future version. Use pandas.concat instead.\n",
      "  new_df = df.append(pd.DataFrame(X_dupes))\n"
     ]
    },
    {
     "data": {
      "text/plain": [
       "37536"
      ]
     },
     "execution_count": 159,
     "metadata": {},
     "output_type": "execute_result"
    }
   ],
   "source": [
    "print(len(X_valtest_df.index))\n",
    "new_X_valtest_df = boost_with_dupes(X_valtest_df)\n",
    "len(new_X_valtest_df[\"target\"])"
   ]
  },
  {
   "cell_type": "code",
   "execution_count": 162,
   "id": "0b04d370",
   "metadata": {},
   "outputs": [],
   "source": [
    "X_val_df, X_test_df, Y_val, Y_test = train_test_split(new_X_valtest_df, new_X_valtest_df[\"target\"], test_size=0.5, stratify=new_X_valtest_df[\"target\"])"
   ]
  },
  {
   "cell_type": "code",
   "execution_count": 164,
   "id": "9733298e",
   "metadata": {},
   "outputs": [
    {
     "name": "stdout",
     "output_type": "stream",
     "text": [
      "149303 149303\n",
      "18768 18768\n",
      "18768 18768\n",
      "186839 186839\n",
      "186519\n"
     ]
    }
   ],
   "source": [
    "X_train_len = len(X_train_df.index)\n",
    "Y_train_len = len(Y_train)\n",
    "\n",
    "X_val_len = len(X_val_df.index)\n",
    "Y_val_len = len(Y_val)\n",
    "\n",
    "X_test_len = len(X_test_df.index)\n",
    "Y_test_len = len(Y_test)\n",
    "\n",
    "print(X_train_len, Y_train_len)\n",
    "print(X_val_len, Y_val_len)\n",
    "print(X_test_len, Y_test_len)\n",
    "\n",
    "print((X_train_len + X_val_len + X_test_len), (Y_train_len + Y_val_len + Y_test_len))\n",
    "print(len(df.index))"
   ]
  },
  {
   "cell_type": "code",
   "execution_count": 167,
   "id": "29414c4c",
   "metadata": {},
   "outputs": [],
   "source": [
    "DST_DIR = \"../data/cat\"\n",
    "\n",
    "filename_df_dict = {\n",
    "    \"train\": {\n",
    "        \"filename\": \"cat_boost_train.csv\",\n",
    "        \"dataframe\": X_train_df\n",
    "    },\n",
    "    \"val\": {\n",
    "        \"filename\": \"cat_boost_val.csv\",\n",
    "        \"dataframe\": X_val_df\n",
    "    },\n",
    "    \"test\": {\n",
    "        \"filename\": \"cat_boost_test.csv\",\n",
    "        \"dataframe\": X_test_df\n",
    "    }\n",
    "}\n",
    "\n",
    "for key in filename_df_dict:\n",
    "    DST_PATH = join(DST_DIR, filename_df_dict[key][\"filename\"])\n",
    "    \n",
    "    if not isfile(DST_PATH):\n",
    "        with open(DST_PATH, \"w\"):\n",
    "            pass\n",
    "    \n",
    "    filename_df_dict[key][\"dataframe\"].to_csv(DST_PATH, index=False)"
   ]
  },
  {
   "cell_type": "code",
   "execution_count": 131,
   "id": "75b5a26b",
   "metadata": {},
   "outputs": [
    {
     "ename": "ValueError",
     "evalue": "could not convert string to float: 'void DaemonProcess::CloseDesktopSession(int terminal_id) {\\n  DCHECK(caller_task_runner()->BelongsToCurrentThread());\\n\\n  if (!IsTerminalIdKnown(terminal_id)) {\\n    LOG(ERROR) << \"An invalid terminal ID. terminal_id=\" << terminal_id;\\n    RestartNetworkProcess();\\n    DeleteAllDesktopSessions();\\n    return;\\n  }\\n\\n  DesktopSessionList::iterator i;\\n  for (i = desktop_sessions_.begin(); i != desktop_sessions_.end(); ++i) {\\n    if ((*i)->id() == terminal_id) {\\n      break;\\n    }\\n  }\\n\\n  if (i == desktop_sessions_.end())\\n    return;\\n\\n  delete *i;\\n  desktop_sessions_.erase(i);\\n\\n  VLOG(1) << \"Daemon: closed desktop session \" << terminal_id;\\n  SendToNetwork(\\n      new ChromotingDaemonNetworkMsg_TerminalDisconnected(terminal_id));\\n}\\n'",
     "output_type": "error",
     "traceback": [
      "\u001b[0;31m---------------------------------------------------------------------------\u001b[0m",
      "\u001b[0;31mValueError\u001b[0m                                Traceback (most recent call last)",
      "Input \u001b[0;32mIn [131]\u001b[0m, in \u001b[0;36m<cell line: 2>\u001b[0;34m()\u001b[0m\n\u001b[1;32m      1\u001b[0m scaler \u001b[38;5;241m=\u001b[39m MinMaxScaler()\n\u001b[0;32m----> 2\u001b[0m X_train \u001b[38;5;241m=\u001b[39m \u001b[43mscaler\u001b[49m\u001b[38;5;241;43m.\u001b[39;49m\u001b[43mfit_transform\u001b[49m\u001b[43m(\u001b[49m\u001b[43mX_train\u001b[49m\u001b[43m)\u001b[49m\n\u001b[1;32m      3\u001b[0m X_val \u001b[38;5;241m=\u001b[39m scaler\u001b[38;5;241m.\u001b[39mtransform(X_val)\n\u001b[1;32m      4\u001b[0m X_test \u001b[38;5;241m=\u001b[39m scaler\u001b[38;5;241m.\u001b[39mtransform(X_test)\n",
      "File \u001b[0;32m~/.local/lib/python3.8/site-packages/sklearn/base.py:852\u001b[0m, in \u001b[0;36mTransformerMixin.fit_transform\u001b[0;34m(self, X, y, **fit_params)\u001b[0m\n\u001b[1;32m    848\u001b[0m \u001b[38;5;66m# non-optimized default implementation; override when a better\u001b[39m\n\u001b[1;32m    849\u001b[0m \u001b[38;5;66m# method is possible for a given clustering algorithm\u001b[39m\n\u001b[1;32m    850\u001b[0m \u001b[38;5;28;01mif\u001b[39;00m y \u001b[38;5;129;01mis\u001b[39;00m \u001b[38;5;28;01mNone\u001b[39;00m:\n\u001b[1;32m    851\u001b[0m     \u001b[38;5;66m# fit method of arity 1 (unsupervised transformation)\u001b[39m\n\u001b[0;32m--> 852\u001b[0m     \u001b[38;5;28;01mreturn\u001b[39;00m \u001b[38;5;28;43mself\u001b[39;49m\u001b[38;5;241;43m.\u001b[39;49m\u001b[43mfit\u001b[49m\u001b[43m(\u001b[49m\u001b[43mX\u001b[49m\u001b[43m,\u001b[49m\u001b[43m \u001b[49m\u001b[38;5;241;43m*\u001b[39;49m\u001b[38;5;241;43m*\u001b[39;49m\u001b[43mfit_params\u001b[49m\u001b[43m)\u001b[49m\u001b[38;5;241m.\u001b[39mtransform(X)\n\u001b[1;32m    853\u001b[0m \u001b[38;5;28;01melse\u001b[39;00m:\n\u001b[1;32m    854\u001b[0m     \u001b[38;5;66m# fit method of arity 2 (supervised transformation)\u001b[39m\n\u001b[1;32m    855\u001b[0m     \u001b[38;5;28;01mreturn\u001b[39;00m \u001b[38;5;28mself\u001b[39m\u001b[38;5;241m.\u001b[39mfit(X, y, \u001b[38;5;241m*\u001b[39m\u001b[38;5;241m*\u001b[39mfit_params)\u001b[38;5;241m.\u001b[39mtransform(X)\n",
      "File \u001b[0;32m~/.local/lib/python3.8/site-packages/sklearn/preprocessing/_data.py:416\u001b[0m, in \u001b[0;36mMinMaxScaler.fit\u001b[0;34m(self, X, y)\u001b[0m\n\u001b[1;32m    414\u001b[0m \u001b[38;5;66m# Reset internal state before fitting\u001b[39m\n\u001b[1;32m    415\u001b[0m \u001b[38;5;28mself\u001b[39m\u001b[38;5;241m.\u001b[39m_reset()\n\u001b[0;32m--> 416\u001b[0m \u001b[38;5;28;01mreturn\u001b[39;00m \u001b[38;5;28;43mself\u001b[39;49m\u001b[38;5;241;43m.\u001b[39;49m\u001b[43mpartial_fit\u001b[49m\u001b[43m(\u001b[49m\u001b[43mX\u001b[49m\u001b[43m,\u001b[49m\u001b[43m \u001b[49m\u001b[43my\u001b[49m\u001b[43m)\u001b[49m\n",
      "File \u001b[0;32m~/.local/lib/python3.8/site-packages/sklearn/preprocessing/_data.py:453\u001b[0m, in \u001b[0;36mMinMaxScaler.partial_fit\u001b[0;34m(self, X, y)\u001b[0m\n\u001b[1;32m    447\u001b[0m     \u001b[38;5;28;01mraise\u001b[39;00m \u001b[38;5;167;01mTypeError\u001b[39;00m(\n\u001b[1;32m    448\u001b[0m         \u001b[38;5;124m\"\u001b[39m\u001b[38;5;124mMinMaxScaler does not support sparse input. \u001b[39m\u001b[38;5;124m\"\u001b[39m\n\u001b[1;32m    449\u001b[0m         \u001b[38;5;124m\"\u001b[39m\u001b[38;5;124mConsider using MaxAbsScaler instead.\u001b[39m\u001b[38;5;124m\"\u001b[39m\n\u001b[1;32m    450\u001b[0m     )\n\u001b[1;32m    452\u001b[0m first_pass \u001b[38;5;241m=\u001b[39m \u001b[38;5;129;01mnot\u001b[39;00m \u001b[38;5;28mhasattr\u001b[39m(\u001b[38;5;28mself\u001b[39m, \u001b[38;5;124m\"\u001b[39m\u001b[38;5;124mn_samples_seen_\u001b[39m\u001b[38;5;124m\"\u001b[39m)\n\u001b[0;32m--> 453\u001b[0m X \u001b[38;5;241m=\u001b[39m \u001b[38;5;28;43mself\u001b[39;49m\u001b[38;5;241;43m.\u001b[39;49m\u001b[43m_validate_data\u001b[49m\u001b[43m(\u001b[49m\n\u001b[1;32m    454\u001b[0m \u001b[43m    \u001b[49m\u001b[43mX\u001b[49m\u001b[43m,\u001b[49m\n\u001b[1;32m    455\u001b[0m \u001b[43m    \u001b[49m\u001b[43mreset\u001b[49m\u001b[38;5;241;43m=\u001b[39;49m\u001b[43mfirst_pass\u001b[49m\u001b[43m,\u001b[49m\n\u001b[1;32m    456\u001b[0m \u001b[43m    \u001b[49m\u001b[43mestimator\u001b[49m\u001b[38;5;241;43m=\u001b[39;49m\u001b[38;5;28;43mself\u001b[39;49m\u001b[43m,\u001b[49m\n\u001b[1;32m    457\u001b[0m \u001b[43m    \u001b[49m\u001b[43mdtype\u001b[49m\u001b[38;5;241;43m=\u001b[39;49m\u001b[43mFLOAT_DTYPES\u001b[49m\u001b[43m,\u001b[49m\n\u001b[1;32m    458\u001b[0m \u001b[43m    \u001b[49m\u001b[43mforce_all_finite\u001b[49m\u001b[38;5;241;43m=\u001b[39;49m\u001b[38;5;124;43m\"\u001b[39;49m\u001b[38;5;124;43mallow-nan\u001b[39;49m\u001b[38;5;124;43m\"\u001b[39;49m\u001b[43m,\u001b[49m\n\u001b[1;32m    459\u001b[0m \u001b[43m\u001b[49m\u001b[43m)\u001b[49m\n\u001b[1;32m    461\u001b[0m data_min \u001b[38;5;241m=\u001b[39m np\u001b[38;5;241m.\u001b[39mnanmin(X, axis\u001b[38;5;241m=\u001b[39m\u001b[38;5;241m0\u001b[39m)\n\u001b[1;32m    462\u001b[0m data_max \u001b[38;5;241m=\u001b[39m np\u001b[38;5;241m.\u001b[39mnanmax(X, axis\u001b[38;5;241m=\u001b[39m\u001b[38;5;241m0\u001b[39m)\n",
      "File \u001b[0;32m~/.local/lib/python3.8/site-packages/sklearn/base.py:566\u001b[0m, in \u001b[0;36mBaseEstimator._validate_data\u001b[0;34m(self, X, y, reset, validate_separately, **check_params)\u001b[0m\n\u001b[1;32m    564\u001b[0m     \u001b[38;5;28;01mraise\u001b[39;00m \u001b[38;5;167;01mValueError\u001b[39;00m(\u001b[38;5;124m\"\u001b[39m\u001b[38;5;124mValidation should be done on X, y or both.\u001b[39m\u001b[38;5;124m\"\u001b[39m)\n\u001b[1;32m    565\u001b[0m \u001b[38;5;28;01melif\u001b[39;00m \u001b[38;5;129;01mnot\u001b[39;00m no_val_X \u001b[38;5;129;01mand\u001b[39;00m no_val_y:\n\u001b[0;32m--> 566\u001b[0m     X \u001b[38;5;241m=\u001b[39m \u001b[43mcheck_array\u001b[49m\u001b[43m(\u001b[49m\u001b[43mX\u001b[49m\u001b[43m,\u001b[49m\u001b[43m \u001b[49m\u001b[38;5;241;43m*\u001b[39;49m\u001b[38;5;241;43m*\u001b[39;49m\u001b[43mcheck_params\u001b[49m\u001b[43m)\u001b[49m\n\u001b[1;32m    567\u001b[0m     out \u001b[38;5;241m=\u001b[39m X\n\u001b[1;32m    568\u001b[0m \u001b[38;5;28;01melif\u001b[39;00m no_val_X \u001b[38;5;129;01mand\u001b[39;00m \u001b[38;5;129;01mnot\u001b[39;00m no_val_y:\n",
      "File \u001b[0;32m~/.local/lib/python3.8/site-packages/sklearn/utils/validation.py:746\u001b[0m, in \u001b[0;36mcheck_array\u001b[0;34m(array, accept_sparse, accept_large_sparse, dtype, order, copy, force_all_finite, ensure_2d, allow_nd, ensure_min_samples, ensure_min_features, estimator)\u001b[0m\n\u001b[1;32m    744\u001b[0m         array \u001b[38;5;241m=\u001b[39m array\u001b[38;5;241m.\u001b[39mastype(dtype, casting\u001b[38;5;241m=\u001b[39m\u001b[38;5;124m\"\u001b[39m\u001b[38;5;124munsafe\u001b[39m\u001b[38;5;124m\"\u001b[39m, copy\u001b[38;5;241m=\u001b[39m\u001b[38;5;28;01mFalse\u001b[39;00m)\n\u001b[1;32m    745\u001b[0m     \u001b[38;5;28;01melse\u001b[39;00m:\n\u001b[0;32m--> 746\u001b[0m         array \u001b[38;5;241m=\u001b[39m \u001b[43mnp\u001b[49m\u001b[38;5;241;43m.\u001b[39;49m\u001b[43masarray\u001b[49m\u001b[43m(\u001b[49m\u001b[43marray\u001b[49m\u001b[43m,\u001b[49m\u001b[43m \u001b[49m\u001b[43morder\u001b[49m\u001b[38;5;241;43m=\u001b[39;49m\u001b[43morder\u001b[49m\u001b[43m,\u001b[49m\u001b[43m \u001b[49m\u001b[43mdtype\u001b[49m\u001b[38;5;241;43m=\u001b[39;49m\u001b[43mdtype\u001b[49m\u001b[43m)\u001b[49m\n\u001b[1;32m    747\u001b[0m \u001b[38;5;28;01mexcept\u001b[39;00m ComplexWarning \u001b[38;5;28;01mas\u001b[39;00m complex_warning:\n\u001b[1;32m    748\u001b[0m     \u001b[38;5;28;01mraise\u001b[39;00m \u001b[38;5;167;01mValueError\u001b[39;00m(\n\u001b[1;32m    749\u001b[0m         \u001b[38;5;124m\"\u001b[39m\u001b[38;5;124mComplex data not supported\u001b[39m\u001b[38;5;130;01m\\n\u001b[39;00m\u001b[38;5;132;01m{}\u001b[39;00m\u001b[38;5;130;01m\\n\u001b[39;00m\u001b[38;5;124m\"\u001b[39m\u001b[38;5;241m.\u001b[39mformat(array)\n\u001b[1;32m    750\u001b[0m     ) \u001b[38;5;28;01mfrom\u001b[39;00m \u001b[38;5;21;01mcomplex_warning\u001b[39;00m\n",
      "File \u001b[0;32m~/.local/lib/python3.8/site-packages/pandas/core/series.py:872\u001b[0m, in \u001b[0;36mSeries.__array__\u001b[0;34m(self, dtype)\u001b[0m\n\u001b[1;32m    825\u001b[0m \u001b[38;5;28;01mdef\u001b[39;00m \u001b[38;5;21m__array__\u001b[39m(\u001b[38;5;28mself\u001b[39m, dtype: npt\u001b[38;5;241m.\u001b[39mDTypeLike \u001b[38;5;241m|\u001b[39m \u001b[38;5;28;01mNone\u001b[39;00m \u001b[38;5;241m=\u001b[39m \u001b[38;5;28;01mNone\u001b[39;00m) \u001b[38;5;241m-\u001b[39m\u001b[38;5;241m>\u001b[39m np\u001b[38;5;241m.\u001b[39mndarray:\n\u001b[1;32m    826\u001b[0m     \u001b[38;5;124m\"\"\"\u001b[39m\n\u001b[1;32m    827\u001b[0m \u001b[38;5;124m    Return the values as a NumPy array.\u001b[39m\n\u001b[1;32m    828\u001b[0m \n\u001b[0;32m   (...)\u001b[0m\n\u001b[1;32m    870\u001b[0m \u001b[38;5;124m          dtype='datetime64[ns]')\u001b[39m\n\u001b[1;32m    871\u001b[0m \u001b[38;5;124m    \"\"\"\u001b[39m\n\u001b[0;32m--> 872\u001b[0m     \u001b[38;5;28;01mreturn\u001b[39;00m \u001b[43mnp\u001b[49m\u001b[38;5;241;43m.\u001b[39;49m\u001b[43masarray\u001b[49m\u001b[43m(\u001b[49m\u001b[38;5;28;43mself\u001b[39;49m\u001b[38;5;241;43m.\u001b[39;49m\u001b[43m_values\u001b[49m\u001b[43m,\u001b[49m\u001b[43m \u001b[49m\u001b[43mdtype\u001b[49m\u001b[43m)\u001b[49m\n",
      "\u001b[0;31mValueError\u001b[0m: could not convert string to float: 'void DaemonProcess::CloseDesktopSession(int terminal_id) {\\n  DCHECK(caller_task_runner()->BelongsToCurrentThread());\\n\\n  if (!IsTerminalIdKnown(terminal_id)) {\\n    LOG(ERROR) << \"An invalid terminal ID. terminal_id=\" << terminal_id;\\n    RestartNetworkProcess();\\n    DeleteAllDesktopSessions();\\n    return;\\n  }\\n\\n  DesktopSessionList::iterator i;\\n  for (i = desktop_sessions_.begin(); i != desktop_sessions_.end(); ++i) {\\n    if ((*i)->id() == terminal_id) {\\n      break;\\n    }\\n  }\\n\\n  if (i == desktop_sessions_.end())\\n    return;\\n\\n  delete *i;\\n  desktop_sessions_.erase(i);\\n\\n  VLOG(1) << \"Daemon: closed desktop session \" << terminal_id;\\n  SendToNetwork(\\n      new ChromotingDaemonNetworkMsg_TerminalDisconnected(terminal_id));\\n}\\n'"
     ]
    }
   ],
   "source": [
    "scaler = MinMaxScaler()\n",
    "X_train = scaler.fit_transform(X_train)\n",
    "X_val = scaler.transform(X_val)\n",
    "X_test = scaler.transform(X_test)"
   ]
  },
  {
   "cell_type": "code",
   "execution_count": 65,
   "id": "64d43b83",
   "metadata": {},
   "outputs": [],
   "source": [
    "Y_list = Y.tolist()\n",
    "unq_targets = set(Y_list)\n",
    "\n",
    "dupe_targets = []\n",
    "\n",
    "for tg in unq_targets:\n",
    "    cnt = Y_list.count(tg)\n",
    "    \n",
    "    if cnt < 2:\n",
    "        dupe_targets.append(tg)"
   ]
  },
  {
   "cell_type": "code",
   "execution_count": 66,
   "id": "d2138dc9",
   "metadata": {},
   "outputs": [
    {
     "name": "stdout",
     "output_type": "stream",
     "text": [
      "<class 'pandas.core.series.Series'>\n"
     ]
    }
   ],
   "source": [
    "print(type(X))\n",
    "\n",
    "X_dupes = []\n",
    "Y_dupes = []\n",
    "\n",
    "dup_cnt = 10\n",
    "\n",
    "for idx, entry in enumerate(X):\n",
    "    if Y[idx] in dupe_targets:\n",
    "        X_dupes.extend([entry] * dup_cnt)\n",
    "        Y_dupes.extend([Y[idx]] * dup_cnt)"
   ]
  },
  {
   "cell_type": "code",
   "execution_count": 67,
   "id": "877aad48",
   "metadata": {},
   "outputs": [
    {
     "name": "stdout",
     "output_type": "stream",
     "text": [
      "186519 186519\n",
      "186629 186629\n"
     ]
    },
    {
     "name": "stderr",
     "output_type": "stream",
     "text": [
      "/tmp/ipykernel_6268/1448872349.py:3: FutureWarning: The series.append method is deprecated and will be removed from pandas in a future version. Use pandas.concat instead.\n",
      "  X = X.append(pd.Series(X_dupes))\n",
      "/tmp/ipykernel_6268/1448872349.py:4: FutureWarning: The series.append method is deprecated and will be removed from pandas in a future version. Use pandas.concat instead.\n",
      "  Y = Y.append(pd.Series(Y_dupes))\n"
     ]
    }
   ],
   "source": [
    "print(len(X), len(Y))\n",
    "\n",
    "X = X.append(pd.Series(X_dupes))\n",
    "Y = Y.append(pd.Series(Y_dupes))\n",
    "\n",
    "print(len(X), len(Y))"
   ]
  },
  {
   "cell_type": "code",
   "execution_count": 68,
   "id": "3e03419a",
   "metadata": {},
   "outputs": [],
   "source": [
    "X_train, X_valtest, Y_train, Y_valtest = train_test_split(X, Y, test_size=0.2, stratify=Y)"
   ]
  },
  {
   "cell_type": "code",
   "execution_count": 69,
   "id": "58dde306",
   "metadata": {},
   "outputs": [
    {
     "name": "stdout",
     "output_type": "stream",
     "text": [
      "1 12\n",
      "1 13\n",
      "1 19\n",
      "1 23\n",
      "1 27\n",
      "1 28\n",
      "1 29\n",
      "1 34\n",
      "1 35\n",
      "1 40\n",
      "1 43\n",
      "1 55\n",
      "1 63\n",
      "1 64\n",
      "1 68\n",
      "1 69\n",
      "1 73\n",
      "1 80\n",
      "1 83\n",
      "1 86\n",
      "1 88\n"
     ]
    }
   ],
   "source": [
    "Y_valtest_list = Y_valtest.tolist()\n",
    "valtest_unq_targets = set(Y_valtest_list)\n",
    "\n",
    "valtest_dupe_targets = []\n",
    "\n",
    "for tg in valtest_unq_targets:\n",
    "    cnt = Y_valtest_list.count(tg)\n",
    "    \n",
    "    if cnt < 2:\n",
    "        valtest_dupe_targets.append(tg)\n",
    "        print(cnt, tg)"
   ]
  },
  {
   "cell_type": "code",
   "execution_count": null,
   "id": "c6563b9c",
   "metadata": {},
   "outputs": [],
   "source": [
    "X_valtest_dupes = []\n",
    "Y_valtest_dupes = []\n",
    "\n",
    "dup_cnt = 10\n",
    "\n",
    "for idx, entry in enumerate(X_valtest):\n",
    "    if Y_valtest[idx] in valtest_dupe_targets:\n",
    "        X_dupes.extend([entry] * dup_cnt)\n",
    "        Y_dupes.extend([Y[idx]] * dup_cnt)\n",
    "\n",
    "print(len(X), len(Y))\n",
    "\n",
    "X = X.append(pd.Series(X_dupes))\n",
    "Y = Y.append(pd.Series(Y_dupes))\n",
    "\n",
    "print(len(X), len(Y))"
   ]
  },
  {
   "cell_type": "code",
   "execution_count": 62,
   "id": "6e8f0ac1",
   "metadata": {},
   "outputs": [
    {
     "ename": "ValueError",
     "evalue": "The least populated class in y has only 1 member, which is too few. The minimum number of groups for any class cannot be less than 2.",
     "output_type": "error",
     "traceback": [
      "\u001b[0;31m---------------------------------------------------------------------------\u001b[0m",
      "\u001b[0;31mValueError\u001b[0m                                Traceback (most recent call last)",
      "Input \u001b[0;32mIn [62]\u001b[0m, in \u001b[0;36m<cell line: 1>\u001b[0;34m()\u001b[0m\n\u001b[0;32m----> 1\u001b[0m X_val, X_test, Y_val, Y_test \u001b[38;5;241m=\u001b[39m \u001b[43mtrain_test_split\u001b[49m\u001b[43m(\u001b[49m\u001b[43mX_valtest\u001b[49m\u001b[43m,\u001b[49m\u001b[43m \u001b[49m\u001b[43mY_valtest\u001b[49m\u001b[43m,\u001b[49m\u001b[43m \u001b[49m\u001b[43mtest_size\u001b[49m\u001b[38;5;241;43m=\u001b[39;49m\u001b[38;5;241;43m0.5\u001b[39;49m\u001b[43m,\u001b[49m\u001b[43m \u001b[49m\u001b[43mstratify\u001b[49m\u001b[38;5;241;43m=\u001b[39;49m\u001b[43mY_valtest\u001b[49m\u001b[43m)\u001b[49m\n",
      "File \u001b[0;32m~/.local/lib/python3.8/site-packages/sklearn/model_selection/_split.py:2441\u001b[0m, in \u001b[0;36mtrain_test_split\u001b[0;34m(test_size, train_size, random_state, shuffle, stratify, *arrays)\u001b[0m\n\u001b[1;32m   2437\u001b[0m         CVClass \u001b[38;5;241m=\u001b[39m ShuffleSplit\n\u001b[1;32m   2439\u001b[0m     cv \u001b[38;5;241m=\u001b[39m CVClass(test_size\u001b[38;5;241m=\u001b[39mn_test, train_size\u001b[38;5;241m=\u001b[39mn_train, random_state\u001b[38;5;241m=\u001b[39mrandom_state)\n\u001b[0;32m-> 2441\u001b[0m     train, test \u001b[38;5;241m=\u001b[39m \u001b[38;5;28;43mnext\u001b[39;49m\u001b[43m(\u001b[49m\u001b[43mcv\u001b[49m\u001b[38;5;241;43m.\u001b[39;49m\u001b[43msplit\u001b[49m\u001b[43m(\u001b[49m\u001b[43mX\u001b[49m\u001b[38;5;241;43m=\u001b[39;49m\u001b[43marrays\u001b[49m\u001b[43m[\u001b[49m\u001b[38;5;241;43m0\u001b[39;49m\u001b[43m]\u001b[49m\u001b[43m,\u001b[49m\u001b[43m \u001b[49m\u001b[43my\u001b[49m\u001b[38;5;241;43m=\u001b[39;49m\u001b[43mstratify\u001b[49m\u001b[43m)\u001b[49m\u001b[43m)\u001b[49m\n\u001b[1;32m   2443\u001b[0m \u001b[38;5;28;01mreturn\u001b[39;00m \u001b[38;5;28mlist\u001b[39m(\n\u001b[1;32m   2444\u001b[0m     chain\u001b[38;5;241m.\u001b[39mfrom_iterable(\n\u001b[1;32m   2445\u001b[0m         (_safe_indexing(a, train), _safe_indexing(a, test)) \u001b[38;5;28;01mfor\u001b[39;00m a \u001b[38;5;129;01min\u001b[39;00m arrays\n\u001b[1;32m   2446\u001b[0m     )\n\u001b[1;32m   2447\u001b[0m )\n",
      "File \u001b[0;32m~/.local/lib/python3.8/site-packages/sklearn/model_selection/_split.py:1600\u001b[0m, in \u001b[0;36mBaseShuffleSplit.split\u001b[0;34m(self, X, y, groups)\u001b[0m\n\u001b[1;32m   1570\u001b[0m \u001b[38;5;124m\"\"\"Generate indices to split data into training and test set.\u001b[39m\n\u001b[1;32m   1571\u001b[0m \n\u001b[1;32m   1572\u001b[0m \u001b[38;5;124mParameters\u001b[39m\n\u001b[0;32m   (...)\u001b[0m\n\u001b[1;32m   1597\u001b[0m \u001b[38;5;124mto an integer.\u001b[39m\n\u001b[1;32m   1598\u001b[0m \u001b[38;5;124m\"\"\"\u001b[39m\n\u001b[1;32m   1599\u001b[0m X, y, groups \u001b[38;5;241m=\u001b[39m indexable(X, y, groups)\n\u001b[0;32m-> 1600\u001b[0m \u001b[38;5;28;01mfor\u001b[39;00m train, test \u001b[38;5;129;01min\u001b[39;00m \u001b[38;5;28mself\u001b[39m\u001b[38;5;241m.\u001b[39m_iter_indices(X, y, groups):\n\u001b[1;32m   1601\u001b[0m     \u001b[38;5;28;01myield\u001b[39;00m train, test\n",
      "File \u001b[0;32m~/.local/lib/python3.8/site-packages/sklearn/model_selection/_split.py:1940\u001b[0m, in \u001b[0;36mStratifiedShuffleSplit._iter_indices\u001b[0;34m(self, X, y, groups)\u001b[0m\n\u001b[1;32m   1938\u001b[0m class_counts \u001b[38;5;241m=\u001b[39m np\u001b[38;5;241m.\u001b[39mbincount(y_indices)\n\u001b[1;32m   1939\u001b[0m \u001b[38;5;28;01mif\u001b[39;00m np\u001b[38;5;241m.\u001b[39mmin(class_counts) \u001b[38;5;241m<\u001b[39m \u001b[38;5;241m2\u001b[39m:\n\u001b[0;32m-> 1940\u001b[0m     \u001b[38;5;28;01mraise\u001b[39;00m \u001b[38;5;167;01mValueError\u001b[39;00m(\n\u001b[1;32m   1941\u001b[0m         \u001b[38;5;124m\"\u001b[39m\u001b[38;5;124mThe least populated class in y has only 1\u001b[39m\u001b[38;5;124m\"\u001b[39m\n\u001b[1;32m   1942\u001b[0m         \u001b[38;5;124m\"\u001b[39m\u001b[38;5;124m member, which is too few. The minimum\u001b[39m\u001b[38;5;124m\"\u001b[39m\n\u001b[1;32m   1943\u001b[0m         \u001b[38;5;124m\"\u001b[39m\u001b[38;5;124m number of groups for any class cannot\u001b[39m\u001b[38;5;124m\"\u001b[39m\n\u001b[1;32m   1944\u001b[0m         \u001b[38;5;124m\"\u001b[39m\u001b[38;5;124m be less than 2.\u001b[39m\u001b[38;5;124m\"\u001b[39m\n\u001b[1;32m   1945\u001b[0m     )\n\u001b[1;32m   1947\u001b[0m \u001b[38;5;28;01mif\u001b[39;00m n_train \u001b[38;5;241m<\u001b[39m n_classes:\n\u001b[1;32m   1948\u001b[0m     \u001b[38;5;28;01mraise\u001b[39;00m \u001b[38;5;167;01mValueError\u001b[39;00m(\n\u001b[1;32m   1949\u001b[0m         \u001b[38;5;124m\"\u001b[39m\u001b[38;5;124mThe train_size = \u001b[39m\u001b[38;5;132;01m%d\u001b[39;00m\u001b[38;5;124m should be greater or \u001b[39m\u001b[38;5;124m\"\u001b[39m\n\u001b[1;32m   1950\u001b[0m         \u001b[38;5;124m\"\u001b[39m\u001b[38;5;124mequal to the number of classes = \u001b[39m\u001b[38;5;132;01m%d\u001b[39;00m\u001b[38;5;124m\"\u001b[39m \u001b[38;5;241m%\u001b[39m (n_train, n_classes)\n\u001b[1;32m   1951\u001b[0m     )\n",
      "\u001b[0;31mValueError\u001b[0m: The least populated class in y has only 1 member, which is too few. The minimum number of groups for any class cannot be less than 2."
     ]
    }
   ],
   "source": [
    "X_val, X_test, Y_val, Y_test = train_test_split(X_valtest, Y_valtest, test_size=0.5, stratify=Y_valtest)"
   ]
  },
  {
   "cell_type": "code",
   "execution_count": null,
   "id": "7659d975",
   "metadata": {},
   "outputs": [],
   "source": []
  }
 ],
 "metadata": {
  "kernelspec": {
   "display_name": "Python [conda env:root] *",
   "language": "python",
   "name": "conda-root-py"
  },
  "language_info": {
   "codemirror_mode": {
    "name": "ipython",
    "version": 3
   },
   "file_extension": ".py",
   "mimetype": "text/x-python",
   "name": "python",
   "nbconvert_exporter": "python",
   "pygments_lexer": "ipython3",
   "version": "3.8.12"
  }
 },
 "nbformat": 4,
 "nbformat_minor": 5
}
