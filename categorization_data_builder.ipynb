{
 "cells": [
  {
   "cell_type": "code",
   "execution_count": 1,
   "id": "ab604369",
   "metadata": {},
   "outputs": [],
   "source": [
    "import os\n",
    "import json\n",
    "import pandas as pd\n",
    "import numpy as np\n",
    "\n",
    "from os.path import isdir, isfile, join"
   ]
  },
  {
   "cell_type": "code",
   "execution_count": 2,
   "id": "4eb662a7",
   "metadata": {},
   "outputs": [],
   "source": [
    "train_data_filepath = \"data/big-vul_dataset/train.csv\"\n",
    "test_data_filepath = \"data/big-vul_dataset/test.csv\"\n",
    "val_data_filepath = \"data/big-vul_dataset/val.csv\""
   ]
  },
  {
   "cell_type": "code",
   "execution_count": 3,
   "id": "a46ca01c",
   "metadata": {},
   "outputs": [],
   "source": [
    "train_df = pd.read_csv(train_data_filepath)"
   ]
  },
  {
   "cell_type": "code",
   "execution_count": 4,
   "id": "14e18244",
   "metadata": {},
   "outputs": [
    {
     "data": {
      "text/plain": [
       "Index(['index', 'Access Gained', 'Attack Origin', 'Authentication Required',\n",
       "       'Availability', 'CVE ID', 'CVE Page', 'CWE ID', 'Complexity',\n",
       "       'Confidentiality', 'Integrity', 'Known Exploits', 'Publish Date',\n",
       "       'Score', 'Summary', 'Update Date', 'Vulnerability Classification',\n",
       "       'add_lines', 'codeLink', 'commit_id', 'commit_message', 'del_lines',\n",
       "       'file_name', 'files_changed', 'func_after', 'func_before', 'lang',\n",
       "       'lines_after', 'lines_before', 'parentID', 'patch', 'project',\n",
       "       'project_after', 'project_before', 'target', 'vul_func_with_fix',\n",
       "       'processed_func', 'flaw_line', 'flaw_line_index'],\n",
       "      dtype='object')"
      ]
     },
     "execution_count": 4,
     "metadata": {},
     "output_type": "execute_result"
    }
   ],
   "source": [
    "train_df.columns"
   ]
  },
  {
   "cell_type": "code",
   "execution_count": 5,
   "id": "c017fac3",
   "metadata": {},
   "outputs": [],
   "source": [
    "train_df.loc[train_df[\"CWE ID\"].isnull(),'cwe_is_NaN'] = 1\n",
    "train_df.loc[train_df[\"CWE ID\"].notnull(), 'cwe_is_NaN'] = 0"
   ]
  },
  {
   "cell_type": "code",
   "execution_count": 7,
   "id": "7ad4f5ab",
   "metadata": {},
   "outputs": [
    {
     "data": {
      "text/plain": [
       "29072"
      ]
     },
     "execution_count": 7,
     "metadata": {},
     "output_type": "execute_result"
    }
   ],
   "source": [
    "nan_cnt = train_df[\"cwe_is_NaN\"].tolist()\n",
    "\n",
    "nan_cnt.count(1)"
   ]
  },
  {
   "cell_type": "code",
   "execution_count": 8,
   "id": "57abea40",
   "metadata": {},
   "outputs": [
    {
     "data": {
      "text/plain": [
       "(149216, 150908)"
      ]
     },
     "execution_count": 8,
     "metadata": {},
     "output_type": "execute_result"
    }
   ],
   "source": [
    "train_df_nonan = train_df.query(\"cwe_is_NaN != 1 or target != 1\")\n",
    "\n",
    "len(train_df_nonan), len(train_df)"
   ]
  },
  {
   "cell_type": "code",
   "execution_count": 11,
   "id": "ebbac32d",
   "metadata": {},
   "outputs": [],
   "source": [
    "nan_cnt = train_df_nonan[\"cwe_is_NaN\"].tolist()\n",
    "\n",
    "nan_cnt.count(1)\n",
    "\n",
    "for idx, row in train_df_nonan.iterrows():\n",
    "    if row[\"cwe_is_NaN\"] == 1:\n",
    "        assert(row[\"target\"] == 0)"
   ]
  },
  {
   "cell_type": "code",
   "execution_count": 12,
   "id": "8e96c613",
   "metadata": {},
   "outputs": [
    {
     "name": "stderr",
     "output_type": "stream",
     "text": [
      "/tmp/ipykernel_15358/2266075813.py:1: SettingWithCopyWarning: \n",
      "A value is trying to be set on a copy of a slice from a DataFrame\n",
      "\n",
      "See the caveats in the documentation: https://pandas.pydata.org/pandas-docs/stable/user_guide/indexing.html#returning-a-view-versus-a-copy\n",
      "  train_df_nonan.drop(\"cwe_is_NaN\", axis=1, inplace=True)\n"
     ]
    }
   ],
   "source": [
    "train_df_nonan.drop(\"cwe_is_NaN\", axis=1, inplace=True)"
   ]
  },
  {
   "cell_type": "code",
   "execution_count": 13,
   "id": "3b67ebd4",
   "metadata": {},
   "outputs": [
    {
     "data": {
      "text/plain": [
       "Index(['index', 'Access Gained', 'Attack Origin', 'Authentication Required',\n",
       "       'Availability', 'CVE ID', 'CVE Page', 'CWE ID', 'Complexity',\n",
       "       'Confidentiality', 'Integrity', 'Known Exploits', 'Publish Date',\n",
       "       'Score', 'Summary', 'Update Date', 'Vulnerability Classification',\n",
       "       'add_lines', 'codeLink', 'commit_id', 'commit_message', 'del_lines',\n",
       "       'file_name', 'files_changed', 'func_after', 'func_before', 'lang',\n",
       "       'lines_after', 'lines_before', 'parentID', 'patch', 'project',\n",
       "       'project_after', 'project_before', 'target', 'vul_func_with_fix',\n",
       "       'processed_func', 'flaw_line', 'flaw_line_index'],\n",
       "      dtype='object')"
      ]
     },
     "execution_count": 13,
     "metadata": {},
     "output_type": "execute_result"
    }
   ],
   "source": [
    "train_df_nonan.columns"
   ]
  },
  {
   "cell_type": "code",
   "execution_count": 20,
   "id": "47a502eb",
   "metadata": {},
   "outputs": [
    {
     "data": {
      "text/plain": [
       "87"
      ]
     },
     "execution_count": 20,
     "metadata": {},
     "output_type": "execute_result"
    }
   ],
   "source": [
    "cwes = train_df_nonan[\"CWE ID\"].tolist()\n",
    "\n",
    "unq_cwes = list(set(cwes))\n",
    "\n",
    "unq_cwes = list(filter(lambda x: isinstance(x, str), unq_cwes))\n",
    "\n",
    "vul_sample_counts = dict()\n",
    "\n",
    "for cwe in unq_cwes:\n",
    "    vul_sample_counts[cwe] = len(train_df_nonan.query(\"`CWE ID` == @cwe and target == 1\").index)\n",
    "\n",
    "unq_cwes.insert(0, \"safe\")\n",
    "\n",
    "\n",
    "\n",
    "for key in vul_sample_counts:\n",
    "    if vul_sample_counts[key] == 0:\n",
    "        unq_cwes.remove(key)\n",
    "\n",
    "categories = np.array(unq_cwes)\n",
    "\n",
    "len(unq_cwes)"
   ]
  },
  {
   "cell_type": "code",
   "execution_count": 21,
   "id": "1f268055",
   "metadata": {},
   "outputs": [],
   "source": [
    "targets = train_df_nonan[\"target\"].tolist()\n",
    "\n",
    "cat_targets = []\n",
    "\n",
    "for idx, target in enumerate(targets):\n",
    "    if target == 0:\n",
    "        cat_targets.append(\"safe\")\n",
    "    else:\n",
    "        cat_targets.append(cwes[idx])\n",
    "\n",
    "cat_series = pd.Series(cat_targets)"
   ]
  },
  {
   "cell_type": "code",
   "execution_count": null,
   "id": "3093a8a0",
   "metadata": {},
   "outputs": [],
   "source": [
    "train_df_nonan[\"target\"] = pd.Categorical(cat_series, categories=categories)"
   ]
  },
  {
   "cell_type": "code",
   "execution_count": null,
   "id": "3f1619d5",
   "metadata": {},
   "outputs": [],
   "source": [
    "cat_train_data_filepath = \"data/big-vul_dataset/cat_train.csv\"\n",
    "\n",
    "if not isfile(cat_train_data_filepath):\n",
    "    with open(cat_train_data_filepath, \"w\"):\n",
    "        pass\n",
    "\n",
    "train_df_nonan.to_csv(cat_train_data_filepath, index=False)"
   ]
  },
  {
   "cell_type": "code",
   "execution_count": null,
   "id": "dbd46e53",
   "metadata": {},
   "outputs": [],
   "source": [
    "cwes = train_df[\"CWE ID\"].tolist()\n",
    "\n",
    "unq_cwes = set(cwes)\n",
    "\n",
    "unq_cwes"
   ]
  },
  {
   "cell_type": "code",
   "execution_count": null,
   "id": "1ac76cbb",
   "metadata": {},
   "outputs": [],
   "source": [
    "nan_cnt = train_df[\"CWE ID\"].isnull().sum()\n",
    "\n",
    "print(nan_cnt)"
   ]
  },
  {
   "cell_type": "code",
   "execution_count": null,
   "id": "4804c647",
   "metadata": {},
   "outputs": [],
   "source": [
    "train_df_nonan = train_df[~pd.isnull(train_df[\"CWE ID\"])]\n",
    "\n",
    "assert(len(train_df.index) - len(train_df_nonan.index) == nan_cnt)"
   ]
  },
  {
   "cell_type": "code",
   "execution_count": null,
   "id": "252d10cc",
   "metadata": {},
   "outputs": [],
   "source": [
    "cwes = train_df_nonan[\"CWE ID\"].tolist()\n",
    "\n",
    "unq_cwes = list(set(cwes))\n",
    "\n",
    "unq_cwes.append(\"safe\")\n",
    "\n",
    "categories = np.array(unq_cwes)"
   ]
  },
  {
   "cell_type": "code",
   "execution_count": null,
   "id": "be350433",
   "metadata": {},
   "outputs": [],
   "source": [
    "len(unq_cwes)"
   ]
  },
  {
   "cell_type": "code",
   "execution_count": null,
   "id": "98d9e7f7",
   "metadata": {},
   "outputs": [],
   "source": [
    "unq_cwes"
   ]
  },
  {
   "cell_type": "code",
   "execution_count": null,
   "id": "b5dc1a70",
   "metadata": {},
   "outputs": [],
   "source": [
    "cwe_ids_num = [int(x.split(\"-\")[-1]) for x in unq_cwes]"
   ]
  },
  {
   "cell_type": "code",
   "execution_count": null,
   "id": "516d8149",
   "metadata": {},
   "outputs": [],
   "source": [
    "cwe_ids_num.sort()\n",
    "\n",
    "len(set(cwe_ids_num))"
   ]
  },
  {
   "cell_type": "code",
   "execution_count": null,
   "id": "52314fe3",
   "metadata": {},
   "outputs": [],
   "source": [
    "cwe_cnt_dict = dict()\n",
    "\n",
    "for idx, cwe_id in enumerate(unq_cwes):\n",
    "    cwe_cnt_dict[cwe_id] = idx + 1"
   ]
  },
  {
   "cell_type": "code",
   "execution_count": null,
   "id": "e4803ec0",
   "metadata": {},
   "outputs": [],
   "source": [
    "cwe_cnt_dict"
   ]
  },
  {
   "cell_type": "code",
   "execution_count": null,
   "id": "6c88221b",
   "metadata": {},
   "outputs": [],
   "source": [
    "train_df_nonan.columns"
   ]
  },
  {
   "cell_type": "code",
   "execution_count": null,
   "id": "4080a8d2",
   "metadata": {},
   "outputs": [],
   "source": [
    "original_targets = train_df_nonan[\"target\"].tolist()\n",
    "categories = train_df_nonan[\"CWE ID\"].tolist()"
   ]
  },
  {
   "cell_type": "code",
   "execution_count": null,
   "id": "b6331f9e",
   "metadata": {},
   "outputs": [],
   "source": [
    "train_df_nonan_cat = train_df_nonan.astype({\"target\": \"category\"})\n",
    "\n",
    "train_df_nonan_cat.dtypes"
   ]
  },
  {
   "cell_type": "code",
   "execution_count": null,
   "id": "6ae0fc4c",
   "metadata": {},
   "outputs": [],
   "source": [
    "train_df_nonan_cat[\"target\"].tolist()"
   ]
  },
  {
   "cell_type": "code",
   "execution_count": null,
   "id": "5ab89d02",
   "metadata": {},
   "outputs": [],
   "source": [
    "for i in range(len(original_targets)):\n",
    "    if original_targets[i] == 1:\n",
    "        train_df_nonan_cat.at[i, \"target\"] = categories[i]\n",
    "    else:\n",
    "        train_df_nonan_cat.at[i, \"target\"] = \"safe\""
   ]
  },
  {
   "cell_type": "code",
   "execution_count": null,
   "id": "e9f0e4c1",
   "metadata": {},
   "outputs": [],
   "source": [
    "train_df_nonan.dtypes"
   ]
  },
  {
   "cell_type": "code",
   "execution_count": null,
   "id": "cec22c07",
   "metadata": {},
   "outputs": [],
   "source": []
  },
  {
   "cell_type": "code",
   "execution_count": null,
   "id": "fa044405",
   "metadata": {},
   "outputs": [],
   "source": [
    "train_df_nonan_cat[\"target\"].tolist()"
   ]
  },
  {
   "cell_type": "code",
   "execution_count": null,
   "id": "029925b1",
   "metadata": {},
   "outputs": [],
   "source": [
    "categorization_train_data_filepath = \"data/big-vul_dataset/cat_train.csv\"\n",
    "\n",
    "if not isfile(categorization_train_data_filepath):\n",
    "    with open(categorization_train_data_filepath, \"w\"):\n",
    "        pass"
   ]
  },
  {
   "cell_type": "code",
   "execution_count": null,
   "id": "02745de9",
   "metadata": {},
   "outputs": [],
   "source": [
    "train_df_nonan_cat.to_csv(categorization_train_data_filepath, index=False)"
   ]
  },
  {
   "cell_type": "code",
   "execution_count": null,
   "id": "36c599e4",
   "metadata": {},
   "outputs": [],
   "source": [
    "train_df = pd.read_csv(categorization_train_data_filepath)"
   ]
  },
  {
   "cell_type": "code",
   "execution_count": null,
   "id": "de4a5c1d",
   "metadata": {},
   "outputs": [],
   "source": [
    "train_df[\"target\"].tolist()"
   ]
  },
  {
   "cell_type": "code",
   "execution_count": null,
   "id": "9ddf792b",
   "metadata": {},
   "outputs": [],
   "source": [
    "original_targets"
   ]
  },
  {
   "cell_type": "code",
   "execution_count": null,
   "id": "88e31590",
   "metadata": {},
   "outputs": [],
   "source": [
    "list(range(100))"
   ]
  },
  {
   "cell_type": "code",
   "execution_count": null,
   "id": "6ba704e5",
   "metadata": {},
   "outputs": [],
   "source": [
    "os.chdir(\"linevul\")\n",
    "\n",
    "train_data_file = \"../data/cat/cat_train.csv\"\n",
    "eval_data_file = \"../data/cat/cat_val.csv\"\n",
    "test_data_file = \"../data/cat/cat_test.csv\"\n",
    "\n",
    "train_df = pd.read_csv(train_data_file)\n",
    "eval_df = pd.read_csv(eval_data_file)\n",
    "test_df = pd.read_csv(test_data_file)\n",
    "\n",
    "train_targets = list(set(train_df[\"target\"].tolist()))\n",
    "eval_targets = list(set(eval_df[\"target\"].tolist()))\n",
    "test_targets = list(set(test_df[\"target\"].tolist()))\n",
    "\n",
    "len(train_targets), len(eval_targets), len(test_targets)"
   ]
  },
  {
   "cell_type": "code",
   "execution_count": null,
   "id": "3292cc39",
   "metadata": {},
   "outputs": [],
   "source": [
    "train_targets"
   ]
  },
  {
   "cell_type": "code",
   "execution_count": null,
   "id": "aa85714f",
   "metadata": {},
   "outputs": [],
   "source": []
  }
 ],
 "metadata": {
  "kernelspec": {
   "display_name": "Python [conda env:root] *",
   "language": "python",
   "name": "conda-root-py"
  },
  "language_info": {
   "codemirror_mode": {
    "name": "ipython",
    "version": 3
   },
   "file_extension": ".py",
   "mimetype": "text/x-python",
   "name": "python",
   "nbconvert_exporter": "python",
   "pygments_lexer": "ipython3",
   "version": "3.8.12"
  }
 },
 "nbformat": 4,
 "nbformat_minor": 5
}
